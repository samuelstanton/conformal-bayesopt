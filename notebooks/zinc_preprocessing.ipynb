{
 "cells": [
  {
   "cell_type": "code",
   "execution_count": null,
   "id": "c1137e7b",
   "metadata": {},
   "outputs": [],
   "source": [
    "from sklearn import preprocessing\n",
    "import torch\n",
    "from rdkit.Chem import Descriptors, MolFromSmiles\n",
    "import pandas as pd\n",
    "import matplotlib.pyplot as plt\n",
    "import numpy as np\n",
    "import seaborn as sns\n",
    "\n",
    "from botorch.models import SingleTaskGP\n",
    "from botorch import fit_gpytorch_model\n",
    "from gpytorch.mlls import ExactMarginalLogLikelihood\n",
    "\n",
    "sns.set(style=\"whitegrid\", font_scale=1.75)"
   ]
  },
  {
   "cell_type": "code",
   "execution_count": null,
   "id": "a0472396-c877-4e0e-9200-957ac1dbe98f",
   "metadata": {},
   "outputs": [],
   "source": [
    "subsample_ratio = 0.25\n",
    "overwrite_df = False\n",
    "src_path = '../conformalbo/assets/zinc_subsample.csv'\n",
    "zinc_df = pd.read_csv(src_path)\n",
    "\n",
    "descriptors = {\n",
    "    \"exact_mol_wt\": Descriptors.ExactMolWt,\n",
    "    \"fp_density_morgan_1\": Descriptors.FpDensityMorgan1,\n",
    "    \"fp_density_morgan_2\": Descriptors.FpDensityMorgan2,\n",
    "    \"fp_density_morgan_3\": Descriptors.FpDensityMorgan3,\n",
    "    \"heavy_atom_mol_wt\": Descriptors.HeavyAtomMolWt,\n",
    "    \"max_abs_partial_charge\": Descriptors.MaxAbsPartialCharge,\n",
    "    \"max_partial_charge\": Descriptors.MaxPartialCharge,\n",
    "    \"min_abs_partial_charge\": Descriptors.MinAbsPartialCharge,\n",
    "    \"min_partial_charge\": Descriptors.MinPartialCharge,\n",
    "    \"mol_weight\": Descriptors.MolWt,\n",
    "    \"num_radical_electrons\": Descriptors.NumRadicalElectrons,\n",
    "    \"num_valence_electons\": Descriptors.NumValenceElectrons,\n",
    "}\n",
    "\n",
    "for descr_key, descr_fn in descriptors.items():\n",
    "    if descr_key in zinc_df.columns:\n",
    "        continue\n",
    "    zinc_df.loc[:, descr_key] = zinc_df.smiles.apply(lambda x: descr_fn(MolFromSmiles(x)))\n",
    "\n",
    "if overwrite_df:\n",
    "    zinc_df.to_csv(src_path, index=None)\n",
    "    \n",
    "zinc_df = zinc_df.sample(frac=subsample_ratio)\n",
    "zinc_df.tail()"
   ]
  }
 ],
 "metadata": {
  "kernelspec": {
   "display_name": "Python 3 (ipykernel)",
   "language": "python",
   "name": "python3"
  },
  "language_info": {
   "codemirror_mode": {
    "name": "ipython",
    "version": 3
   },
   "file_extension": ".py",
   "mimetype": "text/x-python",
   "name": "python",
   "nbconvert_exporter": "python",
   "pygments_lexer": "ipython3",
   "version": "3.8.13"
  }
 },
 "nbformat": 4,
 "nbformat_minor": 5
}
