{
 "cells": [
  {
   "cell_type": "code",
   "execution_count": null,
   "id": "c1137e7b",
   "metadata": {},
   "outputs": [],
   "source": [
    "import torch\n",
    "import pandas as pd\n",
    "import matplotlib.pyplot as plt\n",
    "import numpy as np\n",
    "import seaborn as sns\n",
    "\n",
    "sns.set(style=\"whitegrid\", font_scale=1.75)"
   ]
  },
  {
   "cell_type": "code",
   "execution_count": null,
   "id": "a0472396-c877-4e0e-9200-957ac1dbe98f",
   "metadata": {},
   "outputs": [],
   "source": [
    "subsample_ratio = 0.25\n",
    "overwrite_df = False\n",
    "src_path = '../conformalbo/assets/pOAS_tab.csv'\n",
    "oas_df = pd.read_csv(src_path)\n",
    "\n",
    "oas_df.tail()"
   ]
  },
  {
   "cell_type": "code",
   "execution_count": null,
   "id": "74e9f269-6d00-4947-91ce-f2f103beabcd",
   "metadata": {},
   "outputs": [],
   "source": [
    "exclude_feature_cols = ['header', 'HeavyAA', 'LightAA']"
   ]
  },
  {
   "cell_type": "code",
   "execution_count": null,
   "id": "5b067511-449d-4a88-a150-f8b68ef18977",
   "metadata": {},
   "outputs": [],
   "source": []
  }
 ],
 "metadata": {
  "kernelspec": {
   "display_name": "Python 3 (ipykernel)",
   "language": "python",
   "name": "python3"
  },
  "language_info": {
   "codemirror_mode": {
    "name": "ipython",
    "version": 3
   },
   "file_extension": ".py",
   "mimetype": "text/x-python",
   "name": "python",
   "nbconvert_exporter": "python",
   "pygments_lexer": "ipython3",
   "version": "3.8.13"
  }
 },
 "nbformat": 4,
 "nbformat_minor": 5
}
