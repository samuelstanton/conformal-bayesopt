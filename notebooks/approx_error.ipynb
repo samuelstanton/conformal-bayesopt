{
 "cells": [
  {
   "cell_type": "code",
   "execution_count": null,
   "id": "955c252b-4a64-42d3-94a0-81e73662fa33",
   "metadata": {},
   "outputs": [],
   "source": [
    "import random\n",
    "import math\n",
    "import torch\n",
    "import pandas as pd\n",
    "import matplotlib.pyplot as plt\n",
    "import numpy as np\n",
    "import seaborn as sns\n",
    "import hydra\n",
    "\n",
    "from botorch.test_functions import *\n",
    "\n",
    "from palettable.cartocolors import qualitative as qual_palettes\n",
    "\n",
    "sns.set(style=\"white\", font_scale=1.75)"
   ]
  },
  {
   "cell_type": "code",
   "execution_count": null,
   "id": "22add085-5bd9-4363-9e90-0543773356ff",
   "metadata": {},
   "outputs": [],
   "source": [
    "dtype = torch.double\n",
    "device = torch.device(\"cuda\" if torch.cuda.is_available() else \"cpu\")\n",
    "print(f\"using device: {device}\")"
   ]
  },
  {
   "cell_type": "code",
   "execution_count": null,
   "id": "850ba5cc-2790-4b38-9d97-fb27e5592457",
   "metadata": {},
   "outputs": [],
   "source": [
    "temp_range = 10. ** (-1 * np.arange(2, 7, 2))\n",
    "dim_range = 2 ** np.arange(0, 1)"
   ]
  },
  {
   "cell_type": "code",
   "execution_count": null,
   "id": "5a1ad02a-1902-4d3b-b784-3b54a5aca849",
   "metadata": {},
   "outputs": [],
   "source": [
    "import sys\n",
    "sys.path.append('../conformalbo')\n",
    "sys.path.append('../experiments')"
   ]
  },
  {
   "cell_type": "code",
   "execution_count": null,
   "id": "bf82d598-1696-4c1f-aa3b-ce2ae7a65780",
   "metadata": {},
   "outputs": [],
   "source": [
    "num_mix_components = 1\n",
    "base_seed = 2022\n",
    "\n",
    "def set_seed(seed):\n",
    "    random.seed(seed)\n",
    "    np.random.seed(seed)\n",
    "    torch.random.manual_seed(seed)\n",
    "\n",
    "def sample_mixture(x_dim, device, dtype):\n",
    "    sobol_eng = torch.quasirandom.SobolEngine(dimension=x_dim, scramble=True)\n",
    "    mix_loc = sobol_eng.draw(num_mix_components).to(device=device, dtype=dtype)\n",
    "\n",
    "    # makes separation more extreme\n",
    "    # rand_mask = (torch.rand_like(base_samples) < 0.5).to(base_samples)\n",
    "    # mix_loc = 0.5 * rand_mask + 0.5 * base_samples\n",
    "\n",
    "    mix_scale = torch.full_like(mix_loc, math.sqrt(5e-3))\n",
    "    mix_dist = torch.distributions.Normal(mix_loc, mix_scale)\n",
    "    return mix_dist"
   ]
  },
  {
   "cell_type": "code",
   "execution_count": null,
   "id": "775937a4-1e25-4ea3-ba2b-5a95464f9d13",
   "metadata": {},
   "outputs": [],
   "source": [
    "set_seed(base_seed)\n",
    "\n",
    "x = torch.linspace(-0.1, 0.4, 1000, device=device, dtype=dtype)\n",
    "mix_dist = sample_mixture(1, device, dtype)\n",
    "component_logp = mix_dist.log_prob(x)\n",
    "\n",
    "x = x.cpu()\n",
    "component_logp = component_logp.cpu()\n",
    "\n",
    "fig = plt.figure(figsize=(6, 5))\n",
    "ax = plt.subplot(1, 1, 1)\n",
    "# for mix_idx in range(num_mix_components):\n",
    "#     p_x = component_logp[mix_idx].exp()\n",
    "#     ax.plot(x, p_x, linewidth=1, linestyle='--')\n",
    "#     ax.fill_between(x, torch.zeros_like(x), p_x, alpha=0.2)\n",
    "    \n",
    "# plot mixture distribution\n",
    "p_x = component_logp.exp().mean(0)\n",
    "ax.plot(x[:100], p_x[:100], linewidth=2)\n",
    "ax.fill_between(x[:100], torch.zeros_like(x)[:100], p_x[:100], alpha=0.2)\n",
    "\n",
    "ax.plot(x[900:], p_x[900:], linewidth=2)\n",
    "ax.fill_between(x[900:], torch.zeros_like(x)[900:], p_x[900:], alpha=0.2)\n",
    "\n",
    "ax.set_xlabel(r'$x$')"
   ]
  },
  {
   "cell_type": "code",
   "execution_count": null,
   "id": "af60567b-346f-4f46-a7e9-105bc97a34f8",
   "metadata": {},
   "outputs": [],
   "source": [
    "palette = qual_palettes.Bold_2.hex_colors\n",
    "sns.palplot(palette)\n",
    "sns.set_palette(palette)"
   ]
  },
  {
   "cell_type": "code",
   "execution_count": null,
   "id": "b6cdb349-d371-412a-970e-583eaf76f8f0",
   "metadata": {},
   "outputs": [],
   "source": [
    "fig = plt.figure(figsize=(6, 5))\n",
    "ax = plt.subplot(1, 1, 1)\n",
    "\n",
    "mix_dist = torch.distributions.Normal(torch.zeros(1, 1), 0.1 * torch.ones(1, 1))\n",
    "                                      \n",
    "x = torch.linspace(-0.5, -0.25, 100, device=device, dtype=dtype)\n",
    "component_logp = mix_dist.log_prob(x)\n",
    "x = x.cpu()\n",
    "component_logp = component_logp.cpu()                                    \n",
    "p_x = component_logp.exp().mean(0)\n",
    "ax.plot(x, p_x, linewidth=2, color=palette[1])\n",
    "ax.fill_between(x, torch.zeros_like(x), p_x, alpha=0.2, color=palette[1])\n",
    "\n",
    "plt.ylim(plt.ylim())\n",
    "plt.vlines(x[-1], *plt.ylim(), color='black', linestyle='--')\n",
    "\n",
    "x = torch.linspace(0.25, 0.5, 100, device=device, dtype=dtype)\n",
    "component_logp = mix_dist.log_prob(x)\n",
    "x = x.cpu()\n",
    "component_logp = component_logp.cpu()                                    \n",
    "p_x = component_logp.exp().mean(0)\n",
    "ax.plot(x, p_x, linewidth=2, color=palette[1])\n",
    "ax.fill_between(x, torch.zeros_like(x), p_x, alpha=0.2, color=palette[1])\n",
    "\n",
    "plt.vlines(x[0], *plt.ylim(), color='black', linestyle='--')\n",
    "\n",
    "x = torch.linspace(-0.25, 0.25, 100, device=device, dtype=dtype)\n",
    "component_logp = mix_dist.log_prob(x)\n",
    "x = x.cpu()\n",
    "component_logp = component_logp.cpu()                                    \n",
    "p_x = torch.full_like(x, p_x[0])\n",
    "ax.plot(x, p_x, linewidth=2, color=palette[0])\n",
    "ax.fill_between(x, torch.zeros_like(x), p_x, alpha=0.2, label=r'$C_\\alpha(x)$', color=palette[0])\n",
    "\n",
    "\n",
    "ax.set_xlabel(r'$y$')\n",
    "ax.set_ylabel(r'$p_\\alpha(y | x, D)$')\n",
    "plt.legend()\n",
    "plt.tight_layout()\n",
    "sns.despine()\n",
    "plt.savefig('./figures/conf_bo_posterior_illustration.pdf', bbox_inches='tight')"
   ]
  },
  {
   "cell_type": "code",
   "execution_count": null,
   "id": "e7b9fd3a-b8f1-4e8f-942a-8b34d3fb5658",
   "metadata": {},
   "outputs": [],
   "source": [
    "set_seed(base_seed)\n",
    "\n",
    "num_trials = 32\n",
    "trial_seeds = torch.randint(0, int(1e5), (num_trials,))\n",
    "x_dim = 3\n",
    "num_samples = 32\n",
    "\n",
    "bb_fn = Hartmann(dim=3, negate=True, noise_std=math.sqrt(5e-2))\n",
    "mix_dist = sample_mixture(x_dim, device, dtype)"
   ]
  },
  {
   "cell_type": "code",
   "execution_count": null,
   "id": "b7fb5856-bd7a-4df1-b566-d4d9e6d3c726",
   "metadata": {},
   "outputs": [],
   "source": [
    "from tabular.runner import fit_surrogate, set_alpha, evaluate_surrogate\n",
    "import hydra\n",
    "\n",
    "with hydra.initialize(config_path='../experiments/tabular/hydra_config'):\n",
    "    cfg = hydra.compose(config_name='tabular_search', overrides=[])\n",
    "\n",
    "records = []\n",
    "for seed in trial_seeds:\n",
    "    set_seed(seed)\n",
    "    train_X = mix_dist.sample((num_samples,)).view(-1, x_dim)\n",
    "    train_f = bb_fn.evaluate_true(train_X).view(-1, 1)\n",
    "    train_Y = bb_fn(train_X).view(-1, 1)\n",
    "\n",
    "    holdout_X = mix_dist.sample((num_samples,)).view(-1, x_dim)\n",
    "    holdout_f = bb_fn.evaluate_true(holdout_X).view(-1, 1)\n",
    "    holdout_Y = bb_fn(holdout_X).view(-1, 1)\n",
    "    \n",
    "    surrogate = fit_surrogate(train_X, train_Y)\n",
    "    set_alpha(cfg, train_X.shape[-2])\n",
    "    holdout_metrics = evaluate_surrogate(cfg, surrogate, holdout_X, holdout_Y, log_prefix='holdout')\n",
    "    \n",
    "    holdout_metrics['seed'] = seed\n",
    "    holdout_metrics['num_train'] = num_samples\n",
    "    holdout_metrics['sigmoid_temp'] = cfg.conformal_params.temp\n",
    "    records.append(holdout_metrics)\n",
    "                     \n",
    "experiment_df = pd.DataFrame(records)"
   ]
  },
  {
   "cell_type": "code",
   "execution_count": null,
   "id": "d9e990f3-7294-4e3d-8e5f-32a54256d78c",
   "metadata": {},
   "outputs": [],
   "source": [
    "1 / math.sqrt(num_samples)"
   ]
  },
  {
   "cell_type": "code",
   "execution_count": null,
   "id": "6943eb7f-916c-4945-8321-da734f21981c",
   "metadata": {},
   "outputs": [],
   "source": []
  }
 ],
 "metadata": {
  "kernelspec": {
   "display_name": "Python 3 (ipykernel)",
   "language": "python",
   "name": "python3"
  },
  "language_info": {
   "codemirror_mode": {
    "name": "ipython",
    "version": 3
   },
   "file_extension": ".py",
   "mimetype": "text/x-python",
   "name": "python",
   "nbconvert_exporter": "python",
   "pygments_lexer": "ipython3",
   "version": "3.8.13"
  }
 },
 "nbformat": 4,
 "nbformat_minor": 5
}
