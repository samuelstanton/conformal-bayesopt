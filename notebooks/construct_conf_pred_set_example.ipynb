{
 "cells": [
  {
   "cell_type": "code",
   "execution_count": null,
   "id": "eb25d425",
   "metadata": {},
   "outputs": [],
   "source": [
    "import numpy as np\n",
    "import matplotlib.pyplot as plt\n",
    "import seaborn as sns\n",
    "import math\n",
    "import random\n",
    "import time\n",
    "\n",
    "from scipy import special, stats\n",
    "\n",
    "sns.set(style=\"white\", font_scale=2.0)"
   ]
  },
  {
   "cell_type": "code",
   "execution_count": null,
   "id": "a34a18ca",
   "metadata": {},
   "outputs": [],
   "source": [
    "# from palettable import wesanderson as wa_palettes\n",
    "\n",
    "# palette = wa_palettes.Darjeeling2_5\n",
    "# palette = palette.hex_colors\n",
    "# sns.palplot(palette)\n",
    "# sns.set_palette(palette)"
   ]
  },
  {
   "cell_type": "code",
   "execution_count": null,
   "id": "2b27fcb2",
   "metadata": {},
   "outputs": [],
   "source": [
    "palette = [\"#780000\", \"#C1121F\", \"#F78C6B\", \"#A6A867\", \"#003049\", \"#669BBC\"]\n",
    "sns.palplot(palette)\n",
    "sns.set_palette(palette)"
   ]
  },
  {
   "cell_type": "code",
   "execution_count": null,
   "id": "42ed8ab4",
   "metadata": {},
   "outputs": [],
   "source": [
    "n = 32\n",
    "alpha = 1 / math.sqrt(n)\n",
    "\n",
    "# seed = np.random.randint(0, 1000) + int(time.time()) // int(1e6)\n",
    "seed = 2117\n",
    "\n",
    "print(seed)\n",
    "random.seed(seed)\n",
    "np.random.seed(seed)\n",
    "\n",
    "scores = np.random.rand(n)\n",
    "weights = np.exp(np.random.rand(n) / 0.5)\n",
    "weights /= weights.sum()\n",
    "\n",
    "obs_idxs = np.arange(n)\n",
    "where_leq_last = np.where(scores <= scores[-1])\n",
    "where_geq_last = np.where(scores >= scores[-1])"
   ]
  },
  {
   "cell_type": "code",
   "execution_count": null,
   "id": "6c11b1f6-fae6-4ffe-abeb-4c1ab9b917a5",
   "metadata": {},
   "outputs": [],
   "source": [
    "fig = plt.figure(figsize=(6, 5))\n",
    "\n",
    "cutoff_idx = int(alpha * n)\n",
    "score_argsort = np.argsort(scores)\n",
    "score_ranks = np.argsort(score_argsort)\n",
    "sorted_scores = scores[score_argsort]\n",
    "\n",
    "plt.bar(np.arange(n)[:cutoff_idx + 1], sorted_scores[:cutoff_idx + 1], color=palette[0])\n",
    "plt.bar(np.arange(n)[cutoff_idx + 1:], sorted_scores[cutoff_idx + 1:], color=palette[-1])\n",
    "plt.bar(np.arange(n)[score_ranks[-1]], scores[-1], color='goldenrod')\n",
    "\n",
    "plt.ylim(plt.ylim())\n",
    "plt.vlines(alpha * n, *plt.ylim(), color='black', linestyle='--', label=r'$Q_\\alpha(\\mathcal{S})$')\n",
    "\n",
    "plt.xlabel(r'$\\pi(i)$')\n",
    "plt.ylabel(r'$s(x_{\\pi(i)}, y_{\\pi(i)})$')\n",
    "sns.despine()\n",
    "plt.legend(loc='upper center')\n",
    "plt.tight_layout()"
   ]
  },
  {
   "cell_type": "code",
   "execution_count": null,
   "id": "c87279a3-394b-4764-8120-069a4f091098",
   "metadata": {},
   "outputs": [],
   "source": []
  },
  {
   "cell_type": "code",
   "execution_count": null,
   "id": "c3cf74ca",
   "metadata": {
    "scrolled": true
   },
   "outputs": [],
   "source": [
    "import itertools\n",
    "\n",
    "# palette_idxs = range(len(palette))\n",
    "# for i, j in itertools.product(palette_idxs, palette_idxs):\n",
    "#     if i == j:\n",
    "#         continue\n",
    "    \n",
    "fig = plt.figure(figsize=(6, 5))\n",
    "\n",
    "plt.bar(obs_idxs[where_leq_last], scores[where_leq_last], alpha=1., zorder=3, color=palette[0])\n",
    "plt.bar(obs_idxs[where_geq_last], scores[where_geq_last], alpha=1., zorder=2, color=palette[-1])\n",
    "\n",
    "plt.xlim(plt.xlim())\n",
    "plt.hlines(scores[-1], *plt.xlim(), color='black', linestyle='--', label=r'$s(x_n, y_n)$', linewidth=4, zorder=3)\n",
    "plt.xlabel(r'example index (i)')\n",
    "plt.ylabel(r'$s(x_i, y_i)$')\n",
    "plt.legend(loc='upper left')\n",
    "plt.ylim((0, 1.3))\n",
    "sns.despine()\n",
    "plt.tight_layout()\n",
    "\n",
    "plt.savefig(f'./figures/conf_scores_barplot.pdf')"
   ]
  },
  {
   "cell_type": "code",
   "execution_count": null,
   "id": "20bec575",
   "metadata": {},
   "outputs": [],
   "source": [
    "fig = plt.figure(figsize=(6, 5))\n",
    "\n",
    "plt.bar(obs_idxs[where_leq_last], weights[where_leq_last], alpha=1., zorder=2, color=palette[0])\n",
    "plt.bar(obs_idxs[where_geq_last], weights[where_geq_last], alpha=1., zorder=1, color=palette[-1])\n",
    "# plt.bar(obs_idxs, weights)\n",
    "\n",
    "# plt.xlim(plt.xlim())\n",
    "# plt.hlines(alpha, *plt.xlim(), color='black', linestyle='--', label=r'$\\alpha$')\n",
    "\n",
    "plt.xlabel('example index (i)')\n",
    "plt.ylabel(r'$w$')\n",
    "# plt.legend(loc='upper left')\n",
    "sns.despine()\n",
    "plt.tight_layout()\n",
    "\n",
    "plt.savefig(f'./figures/imp_weights_barplot.pdf')"
   ]
  },
  {
   "cell_type": "code",
   "execution_count": null,
   "id": "53121c47",
   "metadata": {},
   "outputs": [],
   "source": [
    "cum_weights = np.copy(weights)\n",
    "cum_weights[scores > scores[-1]] = 0\n",
    "cum_weights = cum_weights.cumsum()\n",
    "\n",
    "fig = plt.figure(figsize=(6, 5))\n",
    "\n",
    "plt.bar(obs_idxs[where_leq_last], cum_weights[where_leq_last], alpha=1., zorder=2, color=palette[0])\n",
    "plt.bar(obs_idxs[where_geq_last], cum_weights[where_geq_last], alpha=1., zorder=1, color=palette[-1])\n",
    "\n",
    "plt.xlim(plt.xlim())\n",
    "plt.hlines(alpha, *plt.xlim(), color='black', linestyle='--', label=r'$\\alpha$', linewidth=4, zorder=3)\n",
    "\n",
    "plt.scatter(obs_idxs[-1], cum_weights[-1], zorder=3, marker='*', color='goldenrod', label=r'$\\hat{w}_n$', s=256)\n",
    "\n",
    "plt.xlabel('example index (i)')\n",
    "plt.ylabel(r'$\\hat{w}$')\n",
    "plt.legend(loc='upper left', ncol=2)\n",
    "sns.despine()\n",
    "plt.tight_layout()\n",
    "\n",
    "plt.ylim(0, 0.5)\n",
    "\n",
    "plt.savefig(f'./figures/cum_imp_weights_barplot.pdf')"
   ]
  },
  {
   "cell_type": "code",
   "execution_count": null,
   "id": "a6e088e6",
   "metadata": {},
   "outputs": [],
   "source": [
    "y_cand = np.sort(np.linspace(0, 1, n))\n",
    "bar_width = 0.8 * (y_cand[1:] - y_cand[:-1]).mean()\n",
    "cum_weights = stats.beta.pdf(y_cand, 13, 8)\n",
    "cum_weights /= 2 * (cum_weights.max() - cum_weights.min())\n",
    "\n",
    "where_geq_alpha = np.where(cum_weights >= alpha)\n",
    "where_leq_alpha = np.where(cum_weights <= alpha)\n",
    "\n",
    "fig = plt.figure(figsize=(6, 5))\n",
    "\n",
    "color = 'goldenrod'  # palette[2]\n",
    "plt.bar(y_cand[where_geq_alpha], cum_weights[where_geq_alpha], width=bar_width, zorder=2, color=color)\n",
    "color = 'goldenrod'  # palette[4]\n",
    "plt.bar(y_cand[where_leq_alpha], cum_weights[where_leq_alpha], width=bar_width, zorder=1, color=color, alpha=0.4)\n",
    "\n",
    "plt.xlim(plt.xlim())\n",
    "plt.hlines(alpha, *plt.xlim(), color='black', linestyle='--', label=r'$\\alpha$', linewidth=4, zorder=3)\n",
    "\n",
    "plt.xlabel(r\"$y_n$\")\n",
    "plt.ylabel(r\"$\\hat{w}_n$\")\n",
    "plt.legend(loc=\"upper left\")\n",
    "\n",
    "sns.despine()\n",
    "plt.tight_layout()\n",
    "plt.ylim(0, 0.5)\n",
    "\n",
    "plt.savefig(f'./figures/conf_pred_set_barplot.pdf')"
   ]
  },
  {
   "cell_type": "code",
   "execution_count": null,
   "id": "822e13dd",
   "metadata": {},
   "outputs": [],
   "source": []
  }
 ],
 "metadata": {
  "kernelspec": {
   "display_name": "Python 3 (ipykernel)",
   "language": "python",
   "name": "python3"
  },
  "language_info": {
   "codemirror_mode": {
    "name": "ipython",
    "version": 3
   },
   "file_extension": ".py",
   "mimetype": "text/x-python",
   "name": "python",
   "nbconvert_exporter": "python",
   "pygments_lexer": "ipython3",
   "version": "3.8.13"
  }
 },
 "nbformat": 4,
 "nbformat_minor": 5
}
